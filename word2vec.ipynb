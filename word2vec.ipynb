{
 "cells": [
  {
   "cell_type": "markdown",
   "id": "38b3bb4b-f543-40bf-baf7-56b9f408cf4f",
   "metadata": {},
   "source": [
    "# Word2Vec \n",
    "Its an embedding method that encodes words into vectors"
   ]
  },
  {
   "cell_type": "code",
   "execution_count": 5,
   "id": "fc7cb972-bad0-43e3-b64a-ffb43e33f453",
   "metadata": {},
   "outputs": [],
   "source": [
    "text = '''Ajdovščina leži ob sotočju potokov Hublja in Lokavščka, na stiku nasutega Ajdovskega polja in flišnega pobočja pod Goro (Sinji vrh, 1002 metra). Srednja nadmorska višina mesta je 106 metrov.\n",
    "\n",
    "Središče mesta, Lavričev trg, je sredi starega mestnega jedra. Župnijska cerkev je posvečena sv. Janezu Krstniku, v njej so Cebejeve slike. Severno od cerkve so Osnovna šola Danila Lokarja Ajdovščina, Srednja šola Veno Pilon Ajdovščina in športni center Police, južno pa avtobusna in železniška postaja.\n",
    "\n",
    "Na vzhodni strani Hublja je mestni predel (in župnija) Šturje, nekdaj samostojna vas, kjer je cerkev svetega Jurija s slikami Matevža Langusa in Toneta Kralja. Tu je tudi Lavričeva knjižnica Ajdovščina ter nekdanja vas Slejkoti. To je predvsem stanovanjski predel; gostota poselitve je največja v soseski Ribnik, kjer stoji tudi Osnovna šola Šturje Ajdovščina. Na levem bregu Hublja je mestni predel Trnje, ob njegovem izviru so Fužine, nekoliko nižje Pale, Police, Gradišče in Putrihe. Neposredno na obrobju mesta so še samostojne vasi (Grivče, Žapuže, Kožmani itd.)\n",
    "\n",
    "Ob kraških izvirih Hublja je zajetje za območni vodovod. V bližini Športnega parka Pale stojita hidroelektrarna in Hostel Ajdovščina, tu se začne 3100 m dolga Naravoslovna učna pot ob potoku Hubelj.\n",
    "\n",
    "Industrijski obrati so pretežno v južnem delu mesta (Mlinotest, Tekstina, Fructal, Incom, Bia Separations, Petrič). Sredi Ajdovskega polja ob Hublju je čistilna naprava za industrijske in mestne odplake. Na zahodnem robu mesta so pokopališče, športni stadion in Letališče Ajdovščina. Nasproti letališča je obrtna cona, kjer ima sedež podjetje Pipistrel. '''"
   ]
  },
  {
   "cell_type": "markdown",
   "id": "4290fda9-c1da-4da8-9cd1-775b937df321",
   "metadata": {},
   "source": [
    "First we need to tokenize the text and remove the duplicates"
   ]
  },
  {
   "cell_type": "code",
   "execution_count": 46,
   "id": "668ff9e6-44de-44f2-8c2e-c1dca1e6bddf",
   "metadata": {},
   "outputs": [],
   "source": [
    "import re\n",
    "\n",
    "def tokenize(text) -> list:\n",
    "    pattern = re.compile(r'[A-Za-z]+[\\w^\\']*|[\\w^\\']*[A-Za-z]+[\\w^\\']*')\n",
    "    return pattern.findall(text.lower())"
   ]
  },
  {
   "cell_type": "code",
   "execution_count": 48,
   "id": "40c2b7b0-18a4-4eb0-ac04-cacae256fa82",
   "metadata": {},
   "outputs": [
    {
     "data": {
      "text/plain": [
       "['stadion',\n",
       " 'flišnega',\n",
       " 'hublja',\n",
       " 'slejkoti',\n",
       " 'višina',\n",
       " 'vzhodni',\n",
       " 'veno',\n",
       " 'itd',\n",
       " 'osnovna',\n",
       " 'hostel']"
      ]
     },
     "execution_count": 48,
     "metadata": {},
     "output_type": "execute_result"
    }
   ],
   "source": [
    "tokens = list(set(tokenize(text)))\n",
    "tokens[:10]"
   ]
  },
  {
   "cell_type": "markdown",
   "id": "1835a5e5-31da-46db-8529-fac80041fcd0",
   "metadata": {},
   "source": [
    "Now we need to create 2 dictionaries: One for token to index and one from index to token "
   ]
  },
  {
   "cell_type": "code",
   "execution_count": 49,
   "id": "20e60143-b561-4540-a3b6-4eec9766e328",
   "metadata": {},
   "outputs": [],
   "source": [
    "def mapping(tokens)->(dict,dict):\n",
    "    '''\n",
    "    returns a lookup table\n",
    "    '''\n",
    "    words_to_ids = dict()\n",
    "    ids_to_words = dict()\n",
    "\n",
    "    for key,value in enumerate(tokens):\n",
    "        words_to_ids[key] = value\n",
    "        ids_to_words[value] = key\n",
    "    return (words_to_ids,ids_to_words)"
   ]
  },
  {
   "cell_type": "code",
   "execution_count": 54,
   "id": "adc202ae-baf9-408e-a472-dfc91352aa3a",
   "metadata": {},
   "outputs": [
    {
     "name": "stdout",
     "output_type": "stream",
     "text": [
      "(4, 'višina') ('višina', 4)\n"
     ]
    }
   ],
   "source": [
    "x,y = mapping(tokens)\n",
    "print(list(x.items())[4], list(y.items())[4])"
   ]
  },
  {
   "cell_type": "code",
   "execution_count": 55,
   "id": "fbd6d874-b938-426b-ab39-29c645181186",
   "metadata": {},
   "outputs": [
    {
     "data": {
      "text/plain": [
       "True"
      ]
     },
     "execution_count": 55,
     "metadata": {},
     "output_type": "execute_result"
    }
   ],
   "source": [
    "x[4] == x[y[x[4]]] # check if mapping works"
   ]
  },
  {
   "cell_type": "markdown",
   "id": "38164f57-8ff9-4fe3-8a36-b12976c5f428",
   "metadata": {},
   "source": [
    "Now we generate the actual training data. We have to encode tokens using one-hot encoding and generate input/output dataset."
   ]
  },
  {
   "cell_type": "code",
   "execution_count": null,
   "id": "c5734e8c-322a-47cb-97ff-f64c071fafe9",
   "metadata": {},
   "outputs": [],
   "source": []
  }
 ],
 "metadata": {
  "kernelspec": {
   "display_name": "Python 3 (ipykernel)",
   "language": "python",
   "name": "python3"
  },
  "language_info": {
   "codemirror_mode": {
    "name": "ipython",
    "version": 3
   },
   "file_extension": ".py",
   "mimetype": "text/x-python",
   "name": "python",
   "nbconvert_exporter": "python",
   "pygments_lexer": "ipython3",
   "version": "3.10.11"
  }
 },
 "nbformat": 4,
 "nbformat_minor": 5
}
